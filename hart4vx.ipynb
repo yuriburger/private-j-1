{
 "cells": [
  {
   "cell_type": "code",
   "execution_count": null,
   "id": "58269c52-727b-4374-ac7c-efff4ea55768",
   "metadata": {},
   "outputs": [],
   "source": [
    "import numpy as np\n",
    "from matplotlib import pyplot as plot\n",
    "\n",
    "t = np.linspace(0, 2 * np.pi, 100)\n",
    "x = 16 * ( np.sin(t) ** 3 )\n",
    "y = 16 * np.cos(t) - 5* np.cos(2*t) - 2 * np.cos(3*t) - np.cos(4*t)\n",
    "plot.title('VX')\n",
    "plot.plot(x, y)\n",
    "plot.show()\n"
   ]
  }
 ],
 "metadata": {
  "kernelspec": {
   "display_name": "Python 3 (ipykernel)",
   "language": "python",
   "name": "python3"
  },
  "language_info": {
   "codemirror_mode": {
    "name": "ipython",
    "version": 3
   },
   "file_extension": ".py",
   "mimetype": "text/x-python",
   "name": "python",
   "nbconvert_exporter": "python",
   "pygments_lexer": "ipython3",
   "version": "3.11.9"
  }
 },
 "nbformat": 4,
 "nbformat_minor": 5
}
